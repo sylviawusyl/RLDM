{
 "cells": [
  {
   "cell_type": "code",
   "execution_count": 1,
   "metadata": {},
   "outputs": [],
   "source": [
    "import numpy as np\n",
    "import matplotlib.pyplot as plt\n",
    "\n",
    "V = [1/6, 1/3, 1/2, 2/3, 5/6]\n",
    "np.random.seed(20)"
   ]
  },
  {
   "cell_type": "code",
   "execution_count": 46,
   "metadata": {},
   "outputs": [],
   "source": [
    "## construct training data\n",
    "training_data = {}\n",
    "for t in range(100):\n",
    "    ## construct sequence\n",
    "    sequence = {}\n",
    "    for n in range(10):\n",
    "        # simulation\n",
    "        state = 3\n",
    "        action = [-1, 1]\n",
    "        states = [state]\n",
    "        i = 0\n",
    "        for i in range(100):\n",
    "            i+=1\n",
    "            move = np.random.choice(action)\n",
    "            state = state + move\n",
    "            states.append(state)\n",
    "            if state in [0,6]:\n",
    "                break\n",
    "        sequence[n]=states\n",
    "    training_data[t] = sequence"
   ]
  },
  {
   "cell_type": "code",
   "execution_count": 47,
   "metadata": {},
   "outputs": [],
   "source": [
    "xa=np.array([0,0,0,0,0]).T\n",
    "xb=np.array([1,0,0,0,0]).T\n",
    "xc=np.array([0,1,0,0,0]).T\n",
    "xd=np.array([0,0,1,0,0]).T\n",
    "xe=np.array([0,0,0,1,0]).T\n",
    "xf=np.array([0,0,0,0,1]).T\n",
    "xg=np.array([0,0,0,0,0]).T\n",
    "x = [xa, xb, xc, xd, xe, xf, xg]"
   ]
  },
  {
   "cell_type": "markdown",
   "metadata": {},
   "source": [
    "# Experiment 1: Figure 3 Replication"
   ]
  },
  {
   "cell_type": "code",
   "execution_count": 64,
   "metadata": {},
   "outputs": [],
   "source": [
    "## initialize\n",
    "exp3=[]\n",
    "lmd_list = [0, 0.1, 0.3, 0.5, 0.7, 0.9, 1]\n",
    "rewards = [0,0,0,0,0,0,1]\n",
    "alpha = 0.01\n",
    "\n",
    "for lmd in lmd_list:\n",
    "    perf = []\n",
    "    ## run 100 training data\n",
    "    for j in range(100):\n",
    "        sequence = training_data[j]\n",
    "        w = np.array([0.5,0.5,0.5,0.5,0.5])\n",
    "        total_delta_w = [1]\n",
    "        while sum([abs(d) for d in total_delta_w])>=0.001:\n",
    "            ## run 10 sequence (1 training data):\n",
    "            total_delta_w = 0\n",
    "            for i in range(10):\n",
    "                states = sequence[i]\n",
    "                # run 1 sequnce, iterate all the states\n",
    "                for t in range(len(states)-1):\n",
    "                    s = x[states[t]] \n",
    "                    p = s.dot(w.T)\n",
    "\n",
    "                    #####################   TD(lambda!!)   #################\n",
    "                    r = rewards[states[t+1]]\n",
    "                    p_prime = x[states[t+1]].dot(w.T)\n",
    "\n",
    "                    k = [t-k for k in range(t+1)]\n",
    "                    gradient = sum([(lmd**kk)*x[ss] for ss,kk in zip(states[:t+1], k)])   \n",
    "\n",
    "                    delta_w = alpha * (r+p_prime - p) * gradient\n",
    "                    total_delta_w = total_delta_w + delta_w\n",
    "\n",
    "            w = w + total_delta_w ## update w after 10 sequence\n",
    "        perf.append(np.sqrt(((np.array(w)-np.array(V))**2).mean()))\n",
    "    exp3.append(np.mean(perf))"
   ]
  },
  {
   "cell_type": "code",
   "execution_count": 65,
   "metadata": {},
   "outputs": [
    {
     "data": {
      "text/plain": [
       "Text(0.5, 1.0, 'Figure 3 Replication')"
      ]
     },
     "execution_count": 65,
     "metadata": {},
     "output_type": "execute_result"
    },
    {
     "data": {
      "image/png": "[encoded data removed]",
      "text/plain": [
       "<Figure size 432x288 with 1 Axes>"
      ]
     },
     "metadata": {
      "needs_background": "light"
     },
     "output_type": "display_data"
    }
   ],
   "source": [
    "plt.plot(lmd_list, exp3, marker='o', markersize=5)\n",
    "plt.ylabel('ERROR')\n",
    "plt.xlabel('λ')\n",
    "plt.title('Figure 3 Replication')"
   ]
  },
  {
   "cell_type": "markdown",
   "metadata": {},
   "source": [
    "# Experiment 2: Figure 4 Replication"
   ]
  },
  {
   "cell_type": "code",
   "execution_count": 56,
   "metadata": {},
   "outputs": [],
   "source": [
    "exp4=np.zeros((4,13))\n",
    "rewards = [0,0,0,0,0,0,1]\n",
    "lmd_list = [0, 0.3, 0.8, 1]\n",
    "alpha_list=[0, 0.05, 0.1, 0.15, 0.2, 0.25, 0.3, 0.35, 0.4, 0.45, 0.5, 0.55, 0.6]\n",
    "## initialize\n",
    "for l in range(4):\n",
    "    lmd = lmd_list[l]\n",
    "    for a in range(13):\n",
    "        alpha = alpha_list[a]\n",
    "        ## run 100 training data\n",
    "        for j in range(100):\n",
    "            sequence = training_data[j]\n",
    "            w = np.array([0.5,0.5,0.5,0.5,0.5])\n",
    "            perf = []\n",
    "            ###############  run 1 training data, for 10 sequence  #############\n",
    "            for i in range(10):\n",
    "                total_delta_w = 0\n",
    "                states = sequence[i]\n",
    "                if len(states)<=18:\n",
    "                    ################ run 1 sequnce, iterate all the states###########\n",
    "                    for t in range(len(states)-1):\n",
    "                        s = x[states[t]] \n",
    "                        p = s.dot(w.T) \n",
    "\n",
    "                        r = rewards[states[t+1]]\n",
    "                        p_prime = x[states[t+1]].dot(w.T)\n",
    "\n",
    "                        k = [t-k for k in range(t+1)]\n",
    "                        gradient = sum([(lmd**kk)*x[ss] for ss,kk in zip(states[:t+1], k)])   \n",
    "\n",
    "                        delta_w = alpha * (r+p_prime - p) * gradient\n",
    "                        total_delta_w = total_delta_w + delta_w\n",
    "                    ################ FINISHED: run 1 sequnce, iterate all the states###########\n",
    "\n",
    "                    w = w + total_delta_w ## update w after EACH sequence\n",
    "                   ############### FINISHED:  run 1 training data, for 10 sequence  #############    \n",
    "                \n",
    "            perf.append(np.sqrt(((np.array(w)-np.array(V))**2).mean())) ##record perf of a training dataset\n",
    "            exp4[l][a] += np.mean(perf)\n",
    "\n",
    "exp4/=100"
   ]
  },
  {
   "cell_type": "code",
   "execution_count": 57,
   "metadata": {},
   "outputs": [
    {
     "data": {
      "text/plain": [
       "Text(0.5, 1.0, 'Figure 4 Replication')"
      ]
     },
     "execution_count": 57,
     "metadata": {},
     "output_type": "execute_result"
    },
    {
     "data": {
      "image/png": "[encoded data removed]",
      "text/plain": [
       "<Figure size 432x288 with 1 Axes>"
      ]
     },
     "metadata": {
      "needs_background": "light"
     },
     "output_type": "display_data"
    }
   ],
   "source": [
    "plt.plot(alpha_list,exp4[0], label = 'λ=0',marker='o', markersize=5)\n",
    "plt.plot(alpha_list,exp4[1], label = 'λ=0.3',marker='o', markersize=5)\n",
    "plt.plot(alpha_list,exp4[2], label = 'λ=0.8',marker='o', markersize=5)\n",
    "plt.plot(alpha_list,exp4[3], label = 'λ=1',marker='o', markersize=5)\n",
    "plt.legend()\n",
    "plt.ylabel('ERROR')\n",
    "plt.xlabel('α')\n",
    "plt.title('Figure 4 Replication')"
   ]
  },
  {
   "cell_type": "markdown",
   "metadata": {},
   "source": [
    "# Experiment 3: Figure 5 Replication"
   ]
  },
  {
   "cell_type": "code",
   "execution_count": 58,
   "metadata": {},
   "outputs": [],
   "source": [
    "### check opt alpha for each lambda\n",
    "rewards = [0,0,0,0,0,0,1]\n",
    "lmd_list = np.arange(11)*0.1\n",
    "alpha_list = np.arange(13)*0.05\n",
    "exp5 = np.zeros((len(lmd_list),len(alpha_list)))\n",
    "\n",
    "for l in range(len(lmd_list)):\n",
    "    lmd = lmd_list[l]\n",
    "    for a in range(len(alpha_list)):\n",
    "        alpha = alpha_list[a]\n",
    "        ## run 100 training data\n",
    "        for j in range(100):\n",
    "            sequence = training_data[j]\n",
    "            w = np.array([0.5,0.5,0.5,0.5,0.5])\n",
    "            perf = []\n",
    "            ###############  run 1 training data, for 10 sequence  #############\n",
    "            for i in range(10):\n",
    "                total_delta_w = 0\n",
    "                states = sequence[i]\n",
    "                if len(states)<=18:                \n",
    "                    ################ run 1 sequnce, iterate all the states###########\n",
    "                    for t in range(len(states)-1):\n",
    "                        s = x[states[t]] \n",
    "                        p = s.dot(w.T) \n",
    "\n",
    "                        r = rewards[states[t+1]]\n",
    "                        p_prime = x[states[t+1]].dot(w.T)\n",
    "\n",
    "                        k = [t-k for k in range(t+1)]\n",
    "                        gradient = sum([(lmd**kk)*x[ss] for ss,kk in zip(states[:t+1], k)])   \n",
    "\n",
    "                        delta_w = alpha * (r+p_prime - p) * gradient\n",
    "                        total_delta_w = total_delta_w + delta_w\n",
    "                    ################ FINISHED: run 1 sequnce, iterate all the states###########\n",
    "\n",
    "                    w = w + total_delta_w ## update w after EACH sequence\n",
    "                   ############### FINISHED:  run 1 training data, for 10 sequence  #############    \n",
    "\n",
    "            perf.append(np.sqrt(((np.array(w)-np.array(V))**2).mean())) ##record perf of a training dataset\n",
    "            exp5[l][a] += np.mean(perf)\n",
    "\n",
    "exp5/=100"
   ]
  },
  {
   "cell_type": "code",
   "execution_count": 59,
   "metadata": {},
   "outputs": [],
   "source": [
    "best_alp_v={}\n",
    "for l in range(len(lmd_list)):\n",
    "    best_alp_v[l] = alpha_list[np.argmin(exp5[l])]"
   ]
  },
  {
   "cell_type": "code",
   "execution_count": 62,
   "metadata": {},
   "outputs": [],
   "source": [
    "#### get best performance\n",
    "rewards = [0,0,0,0,0,0,1]\n",
    "lmd_list = np.arange(11)*0.1\n",
    "alpha_list = np.arange(13)*0.05\n",
    "exp5_opt = np.zeros(len(lmd_list))\n",
    "\n",
    "for l in range(len(lmd_list)):\n",
    "    lmd = lmd_list[l]\n",
    "    alpha = best_alp_v[l]\n",
    "    ## run 100 training data\n",
    "    for j in range(100):\n",
    "        sequence = training_data[j]\n",
    "        w = np.array([0.5,0.5,0.5,0.5,0.5])\n",
    "        perf = []\n",
    "        ###############  run 1 training data, for 10 sequence  #############\n",
    "        for i in range(10):\n",
    "            total_delta_w = 0\n",
    "            states = sequence[i]\n",
    "            if len(states)<=20:\n",
    "\n",
    "                ################ run 1 sequnce, iterate all the states###########\n",
    "                for t in range(len(states)-1):\n",
    "                    s = x[states[t]] \n",
    "                    p = s.dot(w.T) \n",
    "\n",
    "                    r = rewards[states[t+1]]\n",
    "                    p_prime = x[states[t+1]].dot(w.T)\n",
    "\n",
    "                    k = [t-k for k in range(t+1)]\n",
    "                    gradient = sum([(lmd**kk)*x[ss] for ss,kk in zip(states[:t+1], k)])   \n",
    "\n",
    "                    delta_w = alpha * (r+p_prime - p) * gradient\n",
    "                    total_delta_w = total_delta_w + delta_w\n",
    "                ################ FINISHED: run 1 sequnce, iterate all the states###########\n",
    "\n",
    "                w = w + total_delta_w ## update w after EACH sequence\n",
    "               ############### FINISHED:  run 1 training data, for 10 sequence  #############    \n",
    "\n",
    "        perf.append(np.sqrt(((np.array(w)-np.array(V))**2).mean())) ##record perf of a training dataset\n",
    "        exp5_opt[l] += np.mean(perf)\n",
    "        \n",
    "exp5_opt/=100"
   ]
  },
  {
   "cell_type": "code",
   "execution_count": 61,
   "metadata": {},
   "outputs": [
    {
     "data": {
      "text/plain": [
       "Text(0.5, 1.0, 'Figure 5 Replication')"
      ]
     },
     "execution_count": 61,
     "metadata": {},
     "output_type": "execute_result"
    },
    {
     "data": {
      "image/png": "[encoded data removed]",
      "text/plain": [
       "<Figure size 432x288 with 1 Axes>"
      ]
     },
     "metadata": {
      "needs_background": "light"
     },
     "output_type": "display_data"
    }
   ],
   "source": [
    "plt.plot(lmd_list, exp5_opt,marker='o', markersize=5)\n",
    "plt.ylabel('ERROR USING BEST α')\n",
    "plt.xlabel('λ')\n",
    "plt.title('Figure 5 Replication')"
   ]
  },
  {
   "cell_type": "code",
   "execution_count": null,
   "metadata": {},
   "outputs": [],
   "source": []
  }
 ],
 "metadata": {
  "kernelspec": {
   "display_name": "Python 3",
   "language": "python",
   "name": "python3"
  },
  "language_info": {
   "codemirror_mode": {
    "name": "ipython",
    "version": 3
   },
   "file_extension": ".py",
   "mimetype": "text/x-python",
   "name": "python",
   "nbconvert_exporter": "python",
   "pygments_lexer": "ipython3",
   "version": "3.7.6"
  }
 },
 "nbformat": 4,
 "nbformat_minor": 4
}
